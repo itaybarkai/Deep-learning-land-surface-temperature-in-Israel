{
 "cells": [
  {
   "cell_type": "markdown",
   "id": "c4dd70a3",
   "metadata": {},
   "source": [
    "This is so we can import our source files"
   ]
  },
  {
   "cell_type": "code",
   "execution_count": 14,
   "id": "94ca220c",
   "metadata": {},
   "outputs": [],
   "source": [
    "import os\n",
    "import sys\n",
    "\n",
    "module_path = os.path.abspath(os.path.join('../Source'))\n",
    "if module_path not in sys.path:\n",
    "    sys.path.append(module_path)"
   ]
  },
  {
   "cell_type": "code",
   "execution_count": 15,
   "id": "f5fb415f",
   "metadata": {},
   "outputs": [
    {
     "name": "stdout",
     "output_type": "stream",
     "text": [
      "{'y': <class 'netCDF4._netCDF4.Dimension'>: name = 'y', size = 603, 'x': <class 'netCDF4._netCDF4.Dimension'>: name = 'x', size = 409, 'band': <class 'netCDF4._netCDF4.Dimension'>: name = 'band', size = 4, 'time': <class 'netCDF4._netCDF4.Dimension'>: name = 'time', size = 364}\n"
     ]
    }
   ],
   "source": [
    "from netCDFHandler import NetCDFHandler\n",
    "from consts import FILE_CONSTS\n",
    "\n",
    "lst_handler_2020 = NetCDFHandler(FILE_CONSTS.LST_FORMAT_BY_YEAR_FILE.format(year=2020))\n",
    "print(lst_handler_2020.get_dimensions())"
   ]
  },
  {
   "cell_type": "code",
   "execution_count": 41,
   "id": "2ac4acac",
   "metadata": {},
   "outputs": [
    {
     "name": "stdout",
     "output_type": "stream",
     "text": [
      "34.89844501085272\n",
      "31.50224571104882\n",
      "(364, 603, 409)\n"
     ]
    }
   ],
   "source": [
    "from consts import DATA_CONSTS\n",
    "import numpy as np\n",
    "print(np.mean(lst_handler_2020.get_variable(DATA_CONSTS.VARIABLES.LON)))\n",
    "print(np.mean(lst_handler_2020.get_variable(DATA_CONSTS.VARIABLES.LAT)))\n",
    "print( lst_handler_2020.get_variable(DATA_CONSTS.VARIABLES.DATA).shape )"
   ]
  },
  {
   "cell_type": "code",
   "execution_count": 44,
   "id": "b6bd5d48",
   "metadata": {},
   "outputs": [
    {
     "name": "stdout",
     "output_type": "stream",
     "text": [
      "long: 401  lat: 595  days: 364\n",
      "finished processing day:  0\n",
      "finished processing day:  1\n",
      "finished processing day:  2\n"
     ]
    },
    {
     "ename": "KeyboardInterrupt",
     "evalue": "",
     "output_type": "error",
     "traceback": [
      "\u001b[1;31m---------------------------------------------------------------------------\u001b[0m",
      "\u001b[1;31mKeyboardInterrupt\u001b[0m                         Traceback (most recent call last)",
      "Cell \u001b[1;32mIn[44], line 7\u001b[0m\n\u001b[0;32m      4\u001b[0m importlib\u001b[38;5;241m.\u001b[39mreload(preprocessing)\n\u001b[0;32m      5\u001b[0m \u001b[38;5;28;01mfrom\u001b[39;00m \u001b[38;5;21;01mpreprocessing\u001b[39;00m \u001b[38;5;28;01mimport\u001b[39;00m get_day_dataset_per_year\n\u001b[1;32m----> 7\u001b[0m dataset \u001b[38;5;241m=\u001b[39m \u001b[43mget_day_dataset_per_year\u001b[49m\u001b[43m(\u001b[49m\u001b[38;5;241;43m2020\u001b[39;49m\u001b[43m)\u001b[49m\n",
      "File \u001b[1;32mD:\\MasterProject\\git\\Source\\preprocessing.py:26\u001b[0m, in \u001b[0;36mget_day_dataset_per_year\u001b[1;34m(year)\u001b[0m\n\u001b[0;32m     24\u001b[0m \u001b[38;5;28;01mfor\u001b[39;00m long \u001b[38;5;129;01min\u001b[39;00m \u001b[38;5;28mrange\u001b[39m(grid_count_long):\n\u001b[0;32m     25\u001b[0m     \u001b[38;5;28;01mfor\u001b[39;00m lat \u001b[38;5;129;01min\u001b[39;00m \u001b[38;5;28mrange\u001b[39m(grid_count_lat):\n\u001b[1;32m---> 26\u001b[0m         grid_avg \u001b[38;5;241m=\u001b[39m  \u001b[43mnp\u001b[49m\u001b[38;5;241;43m.\u001b[39;49m\u001b[43mmean\u001b[49m\u001b[43m(\u001b[49m\u001b[43mraw_data\u001b[49m\u001b[43m[\u001b[49m\u001b[43mday\u001b[49m\u001b[43m,\u001b[49m\u001b[43m \u001b[49m\u001b[43mlat\u001b[49m\u001b[43m:\u001b[49m\u001b[43mlat\u001b[49m\u001b[38;5;241;43m+\u001b[39;49m\u001b[43mgrid_size\u001b[49m\u001b[43m,\u001b[49m\u001b[43m \u001b[49m\u001b[43mlong\u001b[49m\u001b[43m:\u001b[49m\u001b[43mlong\u001b[49m\u001b[38;5;241;43m+\u001b[39;49m\u001b[43mgrid_size\u001b[49m\u001b[43m]\u001b[49m\u001b[43m)\u001b[49m\n\u001b[0;32m     28\u001b[0m         grid_middle_long \u001b[38;5;241m=\u001b[39m long \u001b[38;5;241m+\u001b[39m (grid_size \u001b[38;5;241m/\u001b[39m\u001b[38;5;241m/\u001b[39m \u001b[38;5;241m2\u001b[39m)\n\u001b[0;32m     29\u001b[0m         grid_middle_lat \u001b[38;5;241m=\u001b[39m lat \u001b[38;5;241m+\u001b[39m (grid_size \u001b[38;5;241m/\u001b[39m\u001b[38;5;241m/\u001b[39m \u001b[38;5;241m2\u001b[39m)\n",
      "File \u001b[1;32m<__array_function__ internals>:180\u001b[0m, in \u001b[0;36mmean\u001b[1;34m(*args, **kwargs)\u001b[0m\n",
      "File \u001b[1;32mc:\\programdata\\anaconda3\\lib\\site-packages\\numpy\\core\\fromnumeric.py:3430\u001b[0m, in \u001b[0;36mmean\u001b[1;34m(a, axis, dtype, out, keepdims, where)\u001b[0m\n\u001b[0;32m   3428\u001b[0m         \u001b[38;5;28;01mpass\u001b[39;00m\n\u001b[0;32m   3429\u001b[0m     \u001b[38;5;28;01melse\u001b[39;00m:\n\u001b[1;32m-> 3430\u001b[0m         \u001b[38;5;28;01mreturn\u001b[39;00m \u001b[43mmean\u001b[49m\u001b[43m(\u001b[49m\u001b[43maxis\u001b[49m\u001b[38;5;241;43m=\u001b[39;49m\u001b[43maxis\u001b[49m\u001b[43m,\u001b[49m\u001b[43m \u001b[49m\u001b[43mdtype\u001b[49m\u001b[38;5;241;43m=\u001b[39;49m\u001b[43mdtype\u001b[49m\u001b[43m,\u001b[49m\u001b[43m \u001b[49m\u001b[43mout\u001b[49m\u001b[38;5;241;43m=\u001b[39;49m\u001b[43mout\u001b[49m\u001b[43m,\u001b[49m\u001b[43m \u001b[49m\u001b[38;5;241;43m*\u001b[39;49m\u001b[38;5;241;43m*\u001b[39;49m\u001b[43mkwargs\u001b[49m\u001b[43m)\u001b[49m\n\u001b[0;32m   3432\u001b[0m \u001b[38;5;28;01mreturn\u001b[39;00m _methods\u001b[38;5;241m.\u001b[39m_mean(a, axis\u001b[38;5;241m=\u001b[39maxis, dtype\u001b[38;5;241m=\u001b[39mdtype,\n\u001b[0;32m   3433\u001b[0m                       out\u001b[38;5;241m=\u001b[39mout, \u001b[38;5;241m*\u001b[39m\u001b[38;5;241m*\u001b[39mkwargs)\n",
      "File \u001b[1;32mc:\\programdata\\anaconda3\\lib\\site-packages\\numpy\\ma\\core.py:5290\u001b[0m, in \u001b[0;36mMaskedArray.mean\u001b[1;34m(self, axis, dtype, out, keepdims)\u001b[0m\n\u001b[0;32m   5288\u001b[0m     result \u001b[38;5;241m=\u001b[39m \u001b[38;5;28msuper\u001b[39m()\u001b[38;5;241m.\u001b[39mmean(axis\u001b[38;5;241m=\u001b[39maxis, dtype\u001b[38;5;241m=\u001b[39mdtype, \u001b[38;5;241m*\u001b[39m\u001b[38;5;241m*\u001b[39mkwargs)[()]\n\u001b[0;32m   5289\u001b[0m \u001b[38;5;28;01melse\u001b[39;00m:\n\u001b[1;32m-> 5290\u001b[0m     dsum \u001b[38;5;241m=\u001b[39m \u001b[38;5;28;43mself\u001b[39;49m\u001b[38;5;241;43m.\u001b[39;49m\u001b[43msum\u001b[49m\u001b[43m(\u001b[49m\u001b[43maxis\u001b[49m\u001b[38;5;241;43m=\u001b[39;49m\u001b[43maxis\u001b[49m\u001b[43m,\u001b[49m\u001b[43m \u001b[49m\u001b[43mdtype\u001b[49m\u001b[38;5;241;43m=\u001b[39;49m\u001b[43mdtype\u001b[49m\u001b[43m,\u001b[49m\u001b[43m \u001b[49m\u001b[38;5;241;43m*\u001b[39;49m\u001b[38;5;241;43m*\u001b[39;49m\u001b[43mkwargs\u001b[49m\u001b[43m)\u001b[49m\n\u001b[0;32m   5291\u001b[0m     cnt \u001b[38;5;241m=\u001b[39m \u001b[38;5;28mself\u001b[39m\u001b[38;5;241m.\u001b[39mcount(axis\u001b[38;5;241m=\u001b[39maxis, \u001b[38;5;241m*\u001b[39m\u001b[38;5;241m*\u001b[39mkwargs)\n\u001b[0;32m   5292\u001b[0m     \u001b[38;5;28;01mif\u001b[39;00m cnt\u001b[38;5;241m.\u001b[39mshape \u001b[38;5;241m==\u001b[39m () \u001b[38;5;129;01mand\u001b[39;00m (cnt \u001b[38;5;241m==\u001b[39m \u001b[38;5;241m0\u001b[39m):\n",
      "File \u001b[1;32mc:\\programdata\\anaconda3\\lib\\site-packages\\numpy\\ma\\core.py:5128\u001b[0m, in \u001b[0;36mMaskedArray.sum\u001b[1;34m(self, axis, dtype, out, keepdims)\u001b[0m\n\u001b[0;32m   5126\u001b[0m \u001b[38;5;66;03m# No explicit output\u001b[39;00m\n\u001b[0;32m   5127\u001b[0m \u001b[38;5;28;01mif\u001b[39;00m out \u001b[38;5;129;01mis\u001b[39;00m \u001b[38;5;28;01mNone\u001b[39;00m:\n\u001b[1;32m-> 5128\u001b[0m     result \u001b[38;5;241m=\u001b[39m \u001b[38;5;28;43mself\u001b[39;49m\u001b[38;5;241;43m.\u001b[39;49m\u001b[43mfilled\u001b[49m\u001b[43m(\u001b[49m\u001b[38;5;241;43m0\u001b[39;49m\u001b[43m)\u001b[49m\u001b[38;5;241m.\u001b[39msum(axis, dtype\u001b[38;5;241m=\u001b[39mdtype, \u001b[38;5;241m*\u001b[39m\u001b[38;5;241m*\u001b[39mkwargs)\n\u001b[0;32m   5129\u001b[0m     rndim \u001b[38;5;241m=\u001b[39m \u001b[38;5;28mgetattr\u001b[39m(result, \u001b[38;5;124m'\u001b[39m\u001b[38;5;124mndim\u001b[39m\u001b[38;5;124m'\u001b[39m, \u001b[38;5;241m0\u001b[39m)\n\u001b[0;32m   5130\u001b[0m     \u001b[38;5;28;01mif\u001b[39;00m rndim:\n",
      "File \u001b[1;32mc:\\programdata\\anaconda3\\lib\\site-packages\\numpy\\ma\\core.py:3839\u001b[0m, in \u001b[0;36mMaskedArray.filled\u001b[1;34m(self, fill_value)\u001b[0m\n\u001b[0;32m   3837\u001b[0m     \u001b[38;5;28;01mreturn\u001b[39;00m \u001b[38;5;28mself\u001b[39m\u001b[38;5;241m.\u001b[39m_data\n\u001b[0;32m   3838\u001b[0m \u001b[38;5;28;01melse\u001b[39;00m:\n\u001b[1;32m-> 3839\u001b[0m     result \u001b[38;5;241m=\u001b[39m \u001b[38;5;28;43mself\u001b[39;49m\u001b[38;5;241;43m.\u001b[39;49m\u001b[43m_data\u001b[49m\u001b[38;5;241;43m.\u001b[39;49m\u001b[43mcopy\u001b[49m\u001b[43m(\u001b[49m\u001b[38;5;124;43m'\u001b[39;49m\u001b[38;5;124;43mK\u001b[39;49m\u001b[38;5;124;43m'\u001b[39;49m\u001b[43m)\u001b[49m\n\u001b[0;32m   3840\u001b[0m     \u001b[38;5;28;01mtry\u001b[39;00m:\n\u001b[0;32m   3841\u001b[0m         np\u001b[38;5;241m.\u001b[39mcopyto(result, fill_value, where\u001b[38;5;241m=\u001b[39mm)\n",
      "\u001b[1;31mKeyboardInterrupt\u001b[0m: "
     ]
    }
   ],
   "source": [
    "# doing this to test the new version without reseting the kernel\n",
    "import importlib\n",
    "import preprocessing\n",
    "importlib.reload(preprocessing)\n",
    "from preprocessing import get_day_dataset_per_year\n",
    "\n",
    "dataset = get_day_dataset_per_year(2020, test_lower_days=2)"
   ]
  },
  {
   "cell_type": "code",
   "execution_count": null,
   "id": "66ec7b11",
   "metadata": {},
   "outputs": [],
   "source": []
  }
 ],
 "metadata": {
  "kernelspec": {
   "display_name": "Python 3 (ipykernel)",
   "language": "python",
   "name": "python3"
  },
  "language_info": {
   "codemirror_mode": {
    "name": "ipython",
    "version": 3
   },
   "file_extension": ".py",
   "mimetype": "text/x-python",
   "name": "python",
   "nbconvert_exporter": "python",
   "pygments_lexer": "ipython3",
   "version": "3.8.8"
  }
 },
 "nbformat": 4,
 "nbformat_minor": 5
}
